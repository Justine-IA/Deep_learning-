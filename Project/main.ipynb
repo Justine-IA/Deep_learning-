{
 "cells": [
  {
   "cell_type": "markdown",
   "metadata": {},
   "source": [
    "# project\n"
   ]
  },
  {
   "cell_type": "code",
   "execution_count": 4,
   "metadata": {},
   "outputs": [
    {
     "name": "stdout",
     "output_type": "stream",
     "text": [
      "{'uci_id': 360, 'name': 'Air Quality', 'repository_url': 'https://archive.ics.uci.edu/dataset/360/air+quality', 'data_url': 'https://archive.ics.uci.edu/static/public/360/data.csv', 'abstract': 'Contains the responses of a gas multisensor device deployed on the field in an Italian city. Hourly responses averages are recorded along with gas concentrations references from a certified analyzer. ', 'area': 'Computer Science', 'tasks': ['Regression'], 'characteristics': ['Multivariate', 'Time-Series'], 'num_instances': 9358, 'num_features': 15, 'feature_types': ['Real'], 'demographics': [], 'target_col': None, 'index_col': None, 'has_missing_values': 'no', 'missing_values_symbol': None, 'year_of_dataset_creation': 2008, 'last_updated': 'Sun Mar 10 2024', 'dataset_doi': '10.24432/C59K5F', 'creators': ['Saverio Vito'], 'intro_paper': {'ID': 420, 'type': 'NATIVE', 'title': 'On field calibration of an electronic nose for benzene estimation in an urban pollution monitoring scenario', 'authors': 'S. D. Vito, E. Massera, M. Piga, L. Martinotto, G. Francia', 'venue': 'Sensors and Actuators B: Chemical', 'year': 2008, 'journal': None, 'DOI': '10.1016/j.snb.2007.09.060', 'URL': 'https://www.semanticscholar.org/paper/a90a54a39ff934772df57771a0012981f355949d', 'sha': None, 'corpus': None, 'arxiv': None, 'mag': None, 'acl': None, 'pmid': None, 'pmcid': None}, 'additional_info': {'summary': 'The dataset contains 9358 instances of hourly averaged responses from an array of 5 metal oxide chemical sensors embedded in an Air Quality Chemical Multisensor Device. The device was located on the field in a significantly polluted area, at road level,within an Italian city. Data were recorded from March 2004 to February 2005 (one year)representing the longest freely available recordings of on field deployed air quality chemical sensor devices responses. Ground Truth hourly averaged concentrations for CO, Non Metanic Hydrocarbons, Benzene, Total Nitrogen Oxides (NOx) and Nitrogen Dioxide (NO2)  and were provided by a co-located reference certified analyzer. Evidences of cross-sensitivities as well as both concept and sensor drifts are present as described in De Vito et al., Sens. And Act. B, Vol. 129,2,2008 (citation required) eventually affecting sensors concentration estimation capabilities. Missing values are tagged with -200 value.\\r\\nThis dataset can be used exclusively for research purposes. Commercial purposes are fully excluded.\\r\\n', 'purpose': None, 'funded_by': None, 'instances_represent': None, 'recommended_data_splits': None, 'sensitive_data': None, 'preprocessing_description': None, 'variable_info': '0 Date\\t(DD/MM/YYYY)\\r\\n1 Time\\t(HH.MM.SS)\\r\\n2 True hourly averaged concentration CO in mg/m^3  (reference analyzer)\\r\\n3 PT08.S1 (tin oxide)  hourly averaged sensor response (nominally  CO targeted)\\t\\r\\n4 True hourly averaged overall Non Metanic HydroCarbons concentration in microg/m^3 (reference analyzer)\\r\\n5 True hourly averaged Benzene concentration  in microg/m^3 (reference analyzer)\\r\\n6 PT08.S2 (titania) hourly averaged sensor response (nominally NMHC targeted)\\t\\r\\n7 True hourly averaged NOx concentration  in ppb (reference analyzer)\\r\\n8 PT08.S3 (tungsten oxide) hourly averaged sensor response (nominally NOx targeted) \\r\\n9 True hourly averaged NO2 concentration in microg/m^3 (reference analyzer)\\t\\r\\n10 PT08.S4 (tungsten oxide) hourly averaged sensor response (nominally NO2 targeted)\\t\\r\\n11 PT08.S5 (indium oxide) hourly averaged sensor response (nominally O3 targeted)\\r\\n12 Temperature in Â°C\\t\\r\\n13 Relative Humidity (%) \\t\\r\\n14 AH Absolute Humidity\\r\\n', 'citation': None}}\n",
      "             name     role         type demographic  \\\n",
      "0            Date  Feature         Date        None   \n",
      "1            Time  Feature  Categorical        None   \n",
      "2          CO(GT)  Feature      Integer        None   \n",
      "3     PT08.S1(CO)  Feature  Categorical        None   \n",
      "4        NMHC(GT)  Feature      Integer        None   \n",
      "5        C6H6(GT)  Feature   Continuous        None   \n",
      "6   PT08.S2(NMHC)  Feature  Categorical        None   \n",
      "7         NOx(GT)  Feature      Integer        None   \n",
      "8    PT08.S3(NOx)  Feature  Categorical        None   \n",
      "9         NO2(GT)  Feature      Integer        None   \n",
      "10   PT08.S4(NO2)  Feature  Categorical        None   \n",
      "11    PT08.S5(O3)  Feature  Categorical        None   \n",
      "12              T  Feature   Continuous        None   \n",
      "13             RH  Feature   Continuous        None   \n",
      "14             AH  Feature   Continuous        None   \n",
      "\n",
      "                                          description       units  \\\n",
      "0                                                None        None   \n",
      "1                                                None        None   \n",
      "2   True hourly averaged concentration CO in mg/m^...      mg/m^3   \n",
      "3   hourly averaged sensor response (nominally  CO...        None   \n",
      "4   True hourly averaged overall Non Metanic Hydro...  microg/m^3   \n",
      "5   True hourly averaged Benzene concentration  in...  microg/m^3   \n",
      "6   hourly averaged sensor response (nominally NMH...        None   \n",
      "7   True hourly averaged NOx concentration  in ppb...         ppb   \n",
      "8   hourly averaged sensor response (nominally NOx...        None   \n",
      "9   True hourly averaged NO2 concentration in micr...  microg/m^3   \n",
      "10  hourly averaged sensor response (nominally NO2...        None   \n",
      "11  hourly averaged sensor response (nominally O3 ...        None   \n",
      "12                                        Temperature          °C   \n",
      "13                                  Relative Humidity           %   \n",
      "14                                  Absolute Humidity        None   \n",
      "\n",
      "   missing_values  \n",
      "0              no  \n",
      "1              no  \n",
      "2              no  \n",
      "3              no  \n",
      "4              no  \n",
      "5              no  \n",
      "6              no  \n",
      "7              no  \n",
      "8              no  \n",
      "9              no  \n",
      "10             no  \n",
      "11             no  \n",
      "12             no  \n",
      "13             no  \n",
      "14             no  \n"
     ]
    }
   ],
   "source": [
    "import pandas as pd\n",
    "import numpy as np\n",
    "import matplotlib.pyplot as plt\n",
    "from sklearn.model_selection import train_test_split\n",
    "from sklearn.metrics import mean_absolute_error, mean_squared_error\n",
    "from tensorflow.keras.models import Sequential\n",
    "from tensorflow.keras.layers import Dense, Dropout\n",
    "from tensorflow.keras.callbacks import EarlyStopping\n",
    "\n",
    "\n",
    "from ucimlrepo import fetch_ucirepo \n",
    "  \n",
    "# fetch dataset \n",
    "air_quality = fetch_ucirepo(id=360) \n",
    "  \n",
    "# data (as pandas dataframes) \n",
    "X = air_quality.data.features \n",
    "y = air_quality.data.targets \n",
    "  \n",
    "# metadata \n",
    "print(air_quality.metadata) \n",
    "  \n",
    "# variable information \n",
    "print(air_quality.variables) \n"
   ]
  },
  {
   "cell_type": "code",
   "execution_count": null,
   "metadata": {},
   "outputs": [
    {
     "name": "stdout",
     "output_type": "stream",
     "text": [
      "X shape (9357, 15)\n",
      "\n",
      "--- Basic Information ---\n",
      "<class 'pandas.core.frame.DataFrame'>\n",
      "RangeIndex: 9357 entries, 0 to 9356\n",
      "Data columns (total 15 columns):\n",
      " #   Column         Non-Null Count  Dtype  \n",
      "---  ------         --------------  -----  \n",
      " 0   Date           9357 non-null   object \n",
      " 1   Time           9357 non-null   object \n",
      " 2   CO(GT)         9357 non-null   float64\n",
      " 3   PT08.S1(CO)    9357 non-null   int64  \n",
      " 4   NMHC(GT)       9357 non-null   int64  \n",
      " 5   C6H6(GT)       9357 non-null   float64\n",
      " 6   PT08.S2(NMHC)  9357 non-null   int64  \n",
      " 7   NOx(GT)        9357 non-null   int64  \n",
      " 8   PT08.S3(NOx)   9357 non-null   int64  \n",
      " 9   NO2(GT)        9357 non-null   int64  \n",
      " 10  PT08.S4(NO2)   9357 non-null   int64  \n",
      " 11  PT08.S5(O3)    9357 non-null   int64  \n",
      " 12  T              9357 non-null   float64\n",
      " 13  RH             9357 non-null   float64\n",
      " 14  AH             9357 non-null   float64\n",
      "dtypes: float64(5), int64(8), object(2)\n",
      "memory usage: 1.1+ MB\n",
      "None\n",
      "\n",
      "--- Summary Statistics ---\n",
      "            CO(GT)  PT08.S1(CO)     NMHC(GT)     C6H6(GT)  PT08.S2(NMHC)  \\\n",
      "count  9357.000000  9357.000000  9357.000000  9357.000000    9357.000000   \n",
      "mean    -34.207524  1048.990061  -159.090093     1.865683     894.595276   \n",
      "std      77.657170   329.832710   139.789093    41.380206     342.333252   \n",
      "min    -200.000000  -200.000000  -200.000000  -200.000000    -200.000000   \n",
      "25%       0.600000   921.000000  -200.000000     4.000000     711.000000   \n",
      "50%       1.500000  1053.000000  -200.000000     7.900000     895.000000   \n",
      "75%       2.600000  1221.000000  -200.000000    13.600000    1105.000000   \n",
      "max      11.900000  2040.000000  1189.000000    63.700000    2214.000000   \n",
      "\n",
      "           NOx(GT)  PT08.S3(NOx)      NO2(GT)  PT08.S4(NO2)  PT08.S5(O3)  \\\n",
      "count  9357.000000   9357.000000  9357.000000   9357.000000  9357.000000   \n",
      "mean    168.616971    794.990168    58.148873   1391.479641   975.072032   \n",
      "std     257.433866    321.993552   126.940455    467.210125   456.938184   \n",
      "min    -200.000000   -200.000000  -200.000000   -200.000000  -200.000000   \n",
      "25%      50.000000    637.000000    53.000000   1185.000000   700.000000   \n",
      "50%     141.000000    794.000000    96.000000   1446.000000   942.000000   \n",
      "75%     284.000000    960.000000   133.000000   1662.000000  1255.000000   \n",
      "max    1479.000000   2683.000000   340.000000   2775.000000  2523.000000   \n",
      "\n",
      "                 T           RH           AH  \n",
      "count  9357.000000  9357.000000  9357.000000  \n",
      "mean      9.778305    39.485380    -6.837604  \n",
      "std      43.203623    51.216145    38.976670  \n",
      "min    -200.000000  -200.000000  -200.000000  \n",
      "25%      10.900000    34.100000     0.692300  \n",
      "50%      17.200000    48.600000     0.976800  \n",
      "75%      24.100000    61.900000     1.296200  \n",
      "max      44.600000    88.700000     2.231000  \n",
      "\n",
      "--- Missing Values ---\n",
      "Empty DataFrame\n",
      "Columns: [Missing Count, Missing Percentage]\n",
      "Index: []\n"
     ]
    }
   ],
   "source": [
    "# Check the shape of the dataset\n",
    "print(f\"X shape {X.shape}\")\n",
    "# print(f\"y shape {y.shape}\")\n",
    "\n",
    "# 1. Basic Information\n",
    "print(\"\\n--- Basic Information ---\")\n",
    "print(X.info())  # Information about data types and non-null counts\n",
    "\n"
   ]
  },
  {
   "cell_type": "code",
   "execution_count": 11,
   "metadata": {},
   "outputs": [
    {
     "name": "stdout",
     "output_type": "stream",
     "text": [
      "\n",
      "--- Summary Statistics ---\n",
      "            CO(GT)  PT08.S1(CO)     NMHC(GT)     C6H6(GT)  PT08.S2(NMHC)  \\\n",
      "count  9357.000000  9357.000000  9357.000000  9357.000000    9357.000000   \n",
      "mean    -34.207524  1048.990061  -159.090093     1.865683     894.595276   \n",
      "std      77.657170   329.832710   139.789093    41.380206     342.333252   \n",
      "min    -200.000000  -200.000000  -200.000000  -200.000000    -200.000000   \n",
      "25%       0.600000   921.000000  -200.000000     4.000000     711.000000   \n",
      "50%       1.500000  1053.000000  -200.000000     7.900000     895.000000   \n",
      "75%       2.600000  1221.000000  -200.000000    13.600000    1105.000000   \n",
      "max      11.900000  2040.000000  1189.000000    63.700000    2214.000000   \n",
      "\n",
      "           NOx(GT)  PT08.S3(NOx)      NO2(GT)  PT08.S4(NO2)  PT08.S5(O3)  \\\n",
      "count  9357.000000   9357.000000  9357.000000   9357.000000  9357.000000   \n",
      "mean    168.616971    794.990168    58.148873   1391.479641   975.072032   \n",
      "std     257.433866    321.993552   126.940455    467.210125   456.938184   \n",
      "min    -200.000000   -200.000000  -200.000000   -200.000000  -200.000000   \n",
      "25%      50.000000    637.000000    53.000000   1185.000000   700.000000   \n",
      "50%     141.000000    794.000000    96.000000   1446.000000   942.000000   \n",
      "75%     284.000000    960.000000   133.000000   1662.000000  1255.000000   \n",
      "max    1479.000000   2683.000000   340.000000   2775.000000  2523.000000   \n",
      "\n",
      "                 T           RH           AH  \n",
      "count  9357.000000  9357.000000  9357.000000  \n",
      "mean      9.778305    39.485380    -6.837604  \n",
      "std      43.203623    51.216145    38.976670  \n",
      "min    -200.000000  -200.000000  -200.000000  \n",
      "25%      10.900000    34.100000     0.692300  \n",
      "50%      17.200000    48.600000     0.976800  \n",
      "75%      24.100000    61.900000     1.296200  \n",
      "max      44.600000    88.700000     2.231000  \n",
      "\n",
      "--- Missing Values ---\n",
      "Empty DataFrame\n",
      "Columns: [Missing Count, Missing Percentage]\n",
      "Index: []\n"
     ]
    }
   ],
   "source": [
    "print(\"\\n--- Summary Statistics ---\")\n",
    "print(X.describe())  # Summary statistics for numerical features\n",
    "\n",
    "# 2. Missing Values Analysis\n",
    "print(\"\\n--- Missing Values ---\")\n",
    "missing_counts = X.isnull().sum()\n",
    "missing_percentage = X.isnull().mean() * 100\n",
    "missing_summary = pd.DataFrame({\n",
    "    \"Missing Count\": missing_counts,\n",
    "    \"Missing Percentage\": missing_percentage\n",
    "})\n",
    "print(missing_summary[missing_summary[\"Missing Count\"] > 0])  # Show columns with missing values\n",
    "\n"
   ]
  },
  {
   "cell_type": "code",
   "execution_count": 8,
   "metadata": {},
   "outputs": [
    {
     "data": {
      "text/plain": [
       "<bound method NDFrame.head of            Date      Time  CO(GT)  PT08.S1(CO)  NMHC(GT)  C6H6(GT)  \\\n",
       "0     3/10/2004  18:00:00     2.6         1360       150      11.9   \n",
       "1     3/10/2004  19:00:00     2.0         1292       112       9.4   \n",
       "2     3/10/2004  20:00:00     2.2         1402        88       9.0   \n",
       "3     3/10/2004  21:00:00     2.2         1376        80       9.2   \n",
       "4     3/10/2004  22:00:00     1.6         1272        51       6.5   \n",
       "...         ...       ...     ...          ...       ...       ...   \n",
       "9352   4/4/2005  10:00:00     3.1         1314      -200      13.5   \n",
       "9353   4/4/2005  11:00:00     2.4         1163      -200      11.4   \n",
       "9354   4/4/2005  12:00:00     2.4         1142      -200      12.4   \n",
       "9355   4/4/2005  13:00:00     2.1         1003      -200       9.5   \n",
       "9356   4/4/2005  14:00:00     2.2         1071      -200      11.9   \n",
       "\n",
       "      PT08.S2(NMHC)  NOx(GT)  PT08.S3(NOx)  NO2(GT)  PT08.S4(NO2)  \\\n",
       "0              1046      166          1056      113          1692   \n",
       "1               955      103          1174       92          1559   \n",
       "2               939      131          1140      114          1555   \n",
       "3               948      172          1092      122          1584   \n",
       "4               836      131          1205      116          1490   \n",
       "...             ...      ...           ...      ...           ...   \n",
       "9352           1101      472           539      190          1374   \n",
       "9353           1027      353           604      179          1264   \n",
       "9354           1063      293           603      175          1241   \n",
       "9355            961      235           702      156          1041   \n",
       "9356           1047      265           654      168          1129   \n",
       "\n",
       "      PT08.S5(O3)     T    RH      AH  \n",
       "0            1268  13.6  48.9  0.7578  \n",
       "1             972  13.3  47.7  0.7255  \n",
       "2            1074  11.9  54.0  0.7502  \n",
       "3            1203  11.0  60.0  0.7867  \n",
       "4            1110  11.2  59.6  0.7888  \n",
       "...           ...   ...   ...     ...  \n",
       "9352         1729  21.9  29.3  0.7568  \n",
       "9353         1269  24.3  23.7  0.7119  \n",
       "9354         1092  26.9  18.3  0.6406  \n",
       "9355          770  28.3  13.5  0.5139  \n",
       "9356          816  28.5  13.1  0.5028  \n",
       "\n",
       "[9357 rows x 15 columns]>"
      ]
     },
     "execution_count": 8,
     "metadata": {},
     "output_type": "execute_result"
    }
   ],
   "source": [
    "X.head\n"
   ]
  },
  {
   "cell_type": "code",
   "execution_count": 12,
   "metadata": {},
   "outputs": [
    {
     "name": "stdout",
     "output_type": "stream",
     "text": [
      "<class 'NoneType'>\n",
      "None\n"
     ]
    }
   ],
   "source": [
    "print(type(y))  # Check the type of y\n",
    "print(y)  # Print the value of y\n"
   ]
  },
  {
   "cell_type": "code",
   "execution_count": 9,
   "metadata": {},
   "outputs": [
    {
     "ename": "AttributeError",
     "evalue": "'NoneType' object has no attribute 'head'",
     "output_type": "error",
     "traceback": [
      "\u001b[1;31m---------------------------------------------------------------------------\u001b[0m",
      "\u001b[1;31mAttributeError\u001b[0m                            Traceback (most recent call last)",
      "Cell \u001b[1;32mIn[9], line 1\u001b[0m\n\u001b[1;32m----> 1\u001b[0m \u001b[43my\u001b[49m\u001b[38;5;241;43m.\u001b[39;49m\u001b[43mhead\u001b[49m\n",
      "\u001b[1;31mAttributeError\u001b[0m: 'NoneType' object has no attribute 'head'"
     ]
    }
   ],
   "source": [
    "y.head"
   ]
  }
 ],
 "metadata": {
  "kernelspec": {
   "display_name": "Python 3",
   "language": "pyth